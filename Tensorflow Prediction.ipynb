{
 "cells": [
  {
   "cell_type": "code",
   "execution_count": 1,
   "id": "db4f1fc1",
   "metadata": {},
   "outputs": [
    {
     "name": "stderr",
     "output_type": "stream",
     "text": [
      "/Applications/anaconda3/lib/python3.11/site-packages/pandas/core/arrays/masked.py:60: UserWarning: Pandas requires version '1.3.6' or newer of 'bottleneck' (version '1.3.5' currently installed).\n",
      "  from pandas.core import (\n"
     ]
    }
   ],
   "source": [
    "import pandas as pd\n",
    "import numpy as np\n",
    "import matplotlib.pyplot as plt\n",
    "import seaborn as sns\n",
    "%matplotlib inline"
   ]
  },
  {
   "cell_type": "code",
   "execution_count": 2,
   "id": "b910dddd",
   "metadata": {},
   "outputs": [],
   "source": [
    "train = pd.read_csv('Competition_Train.csv')\n",
    "test = pd.read_csv('Competition_Test.csv')"
   ]
  },
  {
   "cell_type": "code",
   "execution_count": 3,
   "id": "bf88ddbd",
   "metadata": {},
   "outputs": [],
   "source": [
    "train['potential_issue'] = train['potential_issue'].astype('int')\n",
    "train['deck_risk'] = train['deck_risk'].astype('int')\n",
    "train['oe_constraint'] = train['oe_constraint'].astype('int')\n",
    "train['ppap_risk'] = train['ppap_risk'].astype('int')\n",
    "train['stop_auto_buy'] = train['stop_auto_buy'].astype('int')\n",
    "train['went_on_backorder'] = train['went_on_backorder'].astype('int')\n",
    "train['rev_stop'] = train['rev_stop'].astype('int')\n",
    "\n"
   ]
  },
  {
   "cell_type": "code",
   "execution_count": 4,
   "id": "fe5bb715",
   "metadata": {},
   "outputs": [],
   "source": [
    "test['potential_issue'] = test['potential_issue'].astype('int')\n",
    "test['deck_risk'] = test['deck_risk'].astype('int')\n",
    "test['oe_constraint'] = test['oe_constraint'].astype('int')\n",
    "test['ppap_risk'] = test['ppap_risk'].astype('int')\n",
    "test['stop_auto_buy'] = test['stop_auto_buy'].astype('int')\n",
    "test['rev_stop'] = test['rev_stop'].astype('int')"
   ]
  },
  {
   "cell_type": "code",
   "execution_count": 5,
   "id": "a25d0b53",
   "metadata": {},
   "outputs": [
    {
     "data": {
      "image/png": "[encoded data removed]",
      "text/plain": [
       "<Figure size 640x480 with 1 Axes>"
      ]
     },
     "metadata": {},
     "output_type": "display_data"
    }
   ],
   "source": [
    "# Plot count plot\n",
    "sns.countplot(x='went_on_backorder', data=train, palette='Set1', order=[0, 1])\n",
    "plt.title(\"Count plot of the went_on_backorder variable\")\n",
    "plt.xticks(rotation=90)\n",
    "plt.show()"
   ]
  },
  {
   "cell_type": "code",
   "execution_count": 5,
   "id": "cd632d73",
   "metadata": {},
   "outputs": [],
   "source": [
    "from sklearn.utils import resample\n",
    "\n",
    "# Separate the classes\n",
    "majority_class = train[train['went_on_backorder'] == 0]\n",
    "minority_class = train[train['went_on_backorder'] == 1]\n",
    "\n",
    "# Downsample the majority class\n",
    "downsampled_majority = resample(majority_class, \n",
    "                                 replace=False,     # Sample without replacement\n",
    "                                 n_samples=len(minority_class),    # Match number of samples in minority class\n",
    "                                 random_state=42)  # Set random state for reproducibility\n",
    "\n",
    "# Combine the downsampled majority class with the minority class\n",
    "balanced_data = pd.concat([downsampled_majority, minority_class])\n",
    "\n",
    "# Shuffle the dataset\n",
    "balanced_data = balanced_data.sample(frac=1, random_state=42)\n",
    "\n",
    "# Now you can use balanced_data for training your model\n"
   ]
  },
  {
   "cell_type": "code",
   "execution_count": 6,
   "id": "6233bccf",
   "metadata": {
    "scrolled": false
   },
   "outputs": [
    {
     "name": "stdout",
     "output_type": "stream",
     "text": [
      "Skewness after transformation:\n",
      "national_inv        0.946406\n",
      "in_transit_qty      3.021128\n",
      "forecast_3_month    0.846378\n",
      "forecast_6_month    0.660035\n",
      "forecast_9_month    0.566332\n",
      "sales_1_month       1.274919\n",
      "sales_3_month       0.850207\n",
      "sales_6_month       0.651915\n",
      "sales_9_month       0.555607\n",
      "min_bank            1.561128\n",
      "pieces_past_due     5.612505\n",
      "local_bo_qty        5.582117\n",
      "dtype: float64\n"
     ]
    }
   ],
   "source": [
    "#balanced_data = balanced_data.drop(['sku'], axis=1)\n",
    "\n",
    "\n",
    "# Select features with high skewness (absolute skewness value > 1)\n",
    "high_skew_features = ['national_inv', 'in_transit_qty', 'forecast_3_month', 'forecast_6_month', \n",
    "                      'forecast_9_month', 'sales_1_month', 'sales_3_month', 'sales_6_month', \n",
    "                      'sales_9_month', 'min_bank', 'pieces_past_due', 'local_bo_qty']\n",
    "\n",
    "# Apply log transformation to selected features\n",
    "for feature in high_skew_features:\n",
    "    balanced_data[feature] = np.log1p(np.abs(balanced_data[feature]))\n",
    "    \n",
    "# Calculate skewness after transformation\n",
    "skewness_after_transformation = balanced_data[high_skew_features].skew()\n",
    "\n",
    "print(\"Skewness after transformation:\")\n",
    "print(skewness_after_transformation)\n"
   ]
  },
  {
   "cell_type": "code",
   "execution_count": 8,
   "id": "e2e8f561",
   "metadata": {},
   "outputs": [
    {
     "name": "stdout",
     "output_type": "stream",
     "text": [
      "Cross-validation scores: [0.58817204 0.57849462 0.57526882 0.66989247 0.80752688 0.83978495\n",
      " 0.54731183 0.62150538 0.60537634 0.51505376 0.61356297 0.82131324\n",
      " 0.74703983 0.55974166 0.64370291 0.50699677 0.52099031 0.59203445\n",
      " 0.60602799 0.5080732 ]\n",
      "Mean CV accuracy: 0.6233935206083545\n"
     ]
    }
   ],
   "source": [
    "from sklearn.neural_network import MLPClassifier\n",
    "from sklearn.model_selection import cross_val_score\n",
    "\n",
    "# Split the data into features (X) and target (y)\n",
    "X = balanced_data.drop('went_on_backorder', axis=1)\n",
    "y = balanced_data['went_on_backorder']\n",
    "\n",
    "# Initialize the neural network classifier\n",
    "clf = MLPClassifier(hidden_layer_sizes=(100, 50), max_iter=1000)\n",
    "\n",
    "# Perform cross-validation\n",
    "cv_scores = cross_val_score(clf, X, y, cv=20)\n",
    "\n",
    "# Print the cross-validation scores\n",
    "print(\"Cross-validation scores:\", cv_scores)\n",
    "print(\"Mean CV accuracy:\", cv_scores.mean())\n"
   ]
  },
  {
   "cell_type": "code",
   "execution_count": 9,
   "id": "76966be0",
   "metadata": {},
   "outputs": [
    {
     "name": "stdout",
     "output_type": "stream",
     "text": [
      "Best parameters: {'alpha': 0.01, 'hidden_layer_sizes': (100,), 'max_iter': 2000}\n",
      "Best mean CV accuracy: 0.7399139322216245\n"
     ]
    }
   ],
   "source": [
    "\n",
    "from sklearn.model_selection import GridSearchCV, StratifiedKFold\n",
    "\n",
    "# Define the parameter grid\n",
    "param_grid = {\n",
    "    'hidden_layer_sizes': [(100,), (100, 50), (50, 50)],\n",
    "    'alpha': [0.0001, 0.001, 0.01],\n",
    "    'max_iter': [1000, 1500, 2000]\n",
    "}\n",
    "\n",
    "# Initialize the neural network classifier\n",
    "clf = MLPClassifier()\n",
    "\n",
    "# Initialize GridSearchCV with 10-fold cross-validation\n",
    "grid_search = GridSearchCV(clf, param_grid, cv=StratifiedKFold(n_splits=10))\n",
    "\n",
    "# Perform the grid search\n",
    "grid_search.fit(X, y)\n",
    "\n",
    "# Get the best parameters and best score\n",
    "best_params = grid_search.best_params_\n",
    "best_score = grid_search.best_score_\n",
    "\n",
    "# Print the best parameters and best score\n",
    "print(\"Best parameters:\", best_params)\n",
    "print(\"Best mean CV accuracy:\", best_score)\n"
   ]
  },
  {
   "cell_type": "code",
   "execution_count": 9,
   "id": "6d433eca",
   "metadata": {},
   "outputs": [],
   "source": [
    "# import tensorflow as tf\n",
    "# from tensorflow.keras.models import Sequential\n",
    "# from tensorflow.keras.layers import Dense\n",
    "\n",
    "\n",
    "# # Define the neural network model\n",
    "# model = tf.keras.Sequential([\n",
    "#     tf.keras.layers.Dense(128, activation='relu', input_shape=(X_train.shape[1],)),\n",
    "#     tf.keras.layers.Dense(64, activation='relu'),\n",
    "#     tf.keras.layers.Dense(1)  # Output layer (no activation for regression)\n",
    "# ])\n",
    "\n",
    "# # Compile the model\n",
    "# model.compile(optimizer='adam', loss='mean_squared_error')\n",
    "\n",
    "# # Train the model\n",
    "# history = model.fit(X_train, y_train, epochs=10, batch_size=32, validation_split=0.2)\n",
    "\n",
    "# # Evaluate the model\n",
    "# mse = model.evaluate(X_test, y_test)\n",
    "# print('Mean Squared Error on Test Set:', mse)"
   ]
  },
  {
   "cell_type": "code",
   "execution_count": null,
   "id": "3fd1fe88",
   "metadata": {},
   "outputs": [],
   "source": []
  },
  {
   "cell_type": "code",
   "execution_count": null,
   "id": "b3c5401a",
   "metadata": {},
   "outputs": [],
   "source": []
  }
 ],
 "metadata": {
  "kernelspec": {
   "display_name": "Python 3 (ipykernel)",
   "language": "python",
   "name": "python3"
  },
  "language_info": {
   "codemirror_mode": {
    "name": "ipython",
    "version": 3
   },
   "file_extension": ".py",
   "mimetype": "text/x-python",
   "name": "python",
   "nbconvert_exporter": "python",
   "pygments_lexer": "ipython3",
   "version": "3.11.5"
  }
 },
 "nbformat": 4,
 "nbformat_minor": 5
}
